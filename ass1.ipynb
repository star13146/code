{
 "cells": [
  {
   "cell_type": "markdown",
   "metadata": {},
   "source": [
    "1. Download and load the data"
   ]
  },
  {
   "cell_type": "code",
   "execution_count": 1,
   "metadata": {},
   "outputs": [
    {
     "name": "stdout",
     "output_type": "stream",
     "text": [
      "File downloaded successfully as diabetes_libsvm.data\n"
     ]
    }
   ],
   "source": [
    "import requests\n",
    "\n",
    "url = 'https://www.csie.ntu.edu.tw/~cjlin/libsvmtools/datasets/binary/diabetes'\n",
    "filename = 'diabetes_libsvm.data'  \n",
    "\n",
    "response = requests.get(url)\n",
    "\n",
    "if response.status_code == 200:\n",
    "    with open(filename, 'wb') as file:\n",
    "        file.write(response.content)\n",
    "    print(f'File downloaded successfully as {filename}')\n",
    "else:\n",
    "    print(f'Failed to download the file. Status code: {response.status_code}')"
   ]
  },
  {
   "cell_type": "code",
   "execution_count": 94,
   "metadata": {},
   "outputs": [
    {
     "name": "stdout",
     "output_type": "stream",
     "text": [
      "Features shape: (768, 8)\n",
      "Labels shape: (768,)\n"
     ]
    }
   ],
   "source": [
    "from sklearn.datasets import load_svmlight_file\n",
    "from sklearn.model_selection import train_test_split\n",
    "from sklearn.preprocessing import StandardScaler\n",
    "file_path = 'diabetes_libsvm.data'\n",
    "\n",
    "X, y = load_svmlight_file(file_path)\n",
    "\n",
    "X_dense = X.toarray()\n",
    "\n",
    "print(f\"Features shape: {X.shape}\")\n",
    "print(f\"Labels shape: {y.shape}\")\n",
    "\n",
    "X_train, X_test, y_train, y_test = train_test_split(X_dense, y, test_size=0.4)\n",
    "\n",
    "\n",
    "scaler = StandardScaler()\n",
    "X_train_scaled = scaler.fit_transform(X_train)\n",
    "X_test_scaled = scaler.fit_transform(X_test)"
   ]
  },
  {
   "cell_type": "markdown",
   "metadata": {},
   "source": [
    "2. Perception model testing and performance analysis"
   ]
  },
  {
   "cell_type": "code",
   "execution_count": 102,
   "metadata": {},
   "outputs": [
    {
     "name": "stdout",
     "output_type": "stream",
     "text": [
      "Accuracy: 0.7142857142857143\n"
     ]
    }
   ],
   "source": [
    "from sklearn.linear_model import Perceptron\n",
    "def train_perceptron(max_iter: int, eta0: float):\n",
    "    perceptron = Perceptron(max_iter=max_iter, eta0=eta0)\n",
    "    perceptron.fit(X_train_scaled, y_train)\n",
    "    return perceptron\n",
    "\n",
    "from sklearn.metrics import accuracy_score\n",
    "\n",
    "def evaluate_model(model):\n",
    "    y_pred = model.predict(X_test_scaled)\n",
    "    accuracy = accuracy_score(y_pred,y_test)\n",
    "    return accuracy\n",
    "\n",
    "\n",
    "# Initialize the Perceptron\n",
    "perception = train_perceptron(max_iter=2, eta0=0.1)\n",
    "accuracy = evaluate_model(perception)\n",
    "print(f\"Accuracy: {accuracy}\")"
   ]
  },
  {
   "cell_type": "markdown",
   "metadata": {},
   "source": [
    "3. Experiment and analysis"
   ]
  },
  {
   "cell_type": "markdown",
   "metadata": {},
   "source": [
    "Define ranges for Perceptron hyperparameters\n",
    "\n"
   ]
  },
  {
   "cell_type": "code",
   "execution_count": 103,
   "metadata": {},
   "outputs": [],
   "source": [
    "import numpy as np\n",
    "max_iter_values = []\n",
    "for i in range(1,500,5):\n",
    "    max_iter_values.append(i)\n",
    "\n",
    "eta0_values = []\n",
    "for i in np.arange(0.01, 1, 0.01):\n",
    "    eta0_values.append(i)\n"
   ]
  },
  {
   "cell_type": "markdown",
   "metadata": {},
   "source": [
    "Loop and get best result"
   ]
  },
  {
   "cell_type": "code",
   "execution_count": 104,
   "metadata": {},
   "outputs": [
    {
     "name": "stdout",
     "output_type": "stream",
     "text": [
      "Best Model Based on Accuracy:\n",
      "max_iter: 6, eta0: 0.01\n",
      "Highest Accuracy: 0.70\n"
     ]
    }
   ],
   "source": [
    "import warnings\n",
    "\n",
    "warnings.filterwarnings(\"ignore\")\n",
    "\n",
    "best_accuracy = 0.0\n",
    "best_model = None\n",
    "best_hyperparameters = {}\n",
    "\n",
    "# Train and evaluate models for each combination of hyperparameters\n",
    "for max_iter in max_iter_values:\n",
    "    for eta0 in eta0_values:\n",
    "        # Train the model\n",
    "        model = train_perceptron(max_iter, eta0)\n",
    "\n",
    "        # Evaluate the model\n",
    "        accuracy = evaluate_model(model)\n",
    "        # Update the best model if this one is better\n",
    "        if accuracy > best_accuracy:\n",
    "            best_accuracy = accuracy\n",
    "            best_model = model\n",
    "            best_hyperparameters = {\n",
    "                'max_iter': max_iter,\n",
    "                'eta0': eta0\n",
    "            }\n",
    "\n",
    "# Print the best model details\n",
    "print(\"Best Model Based on Accuracy:\")\n",
    "print(f\"max_iter: {best_hyperparameters['max_iter']}, eta0: {best_hyperparameters['eta0']}\")\n",
    "print(f\"Highest Accuracy: {best_accuracy:.2f}\")\n"
   ]
  }
 ],
 "metadata": {
  "kernelspec": {
   "display_name": "Python 3",
   "language": "python",
   "name": "python3"
  },
  "language_info": {
   "codemirror_mode": {
    "name": "ipython",
    "version": 3
   },
   "file_extension": ".py",
   "mimetype": "text/x-python",
   "name": "python",
   "nbconvert_exporter": "python",
   "pygments_lexer": "ipython3",
   "version": "3.11.9"
  }
 },
 "nbformat": 4,
 "nbformat_minor": 2
}
